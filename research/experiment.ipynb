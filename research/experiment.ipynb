{
 "cells": [
  {
   "cell_type": "code",
   "execution_count": 1,
   "id": "af078e91",
   "metadata": {},
   "outputs": [],
   "source": [
    "import os\n",
    "from dotenv import load_dotenv"
   ]
  },
  {
   "cell_type": "code",
   "execution_count": 2,
   "id": "36dc9eb1",
   "metadata": {},
   "outputs": [],
   "source": [
    "load_dotenv()\n",
    "OPENAI_API_KEY=os.getenv(\"OPENAI_API_KEY\")\n"
   ]
  },
  {
   "cell_type": "code",
   "execution_count": 3,
   "id": "f5a768ac",
   "metadata": {},
   "outputs": [],
   "source": [
    "os.environ[\"OPENAI_API_KEY\"]=OPENAI_API_KEY\n"
   ]
  },
  {
   "cell_type": "code",
   "execution_count": 4,
   "id": "a9738ca2",
   "metadata": {},
   "outputs": [],
   "source": [
    "from langchain.document_loaders import PyPDFLoader"
   ]
  },
  {
   "cell_type": "code",
   "execution_count": 6,
   "id": "b68f82c6",
   "metadata": {},
   "outputs": [
    {
     "name": "stdout",
     "output_type": "stream",
     "text": [
      "/Volumes/Ayush Drive/ASU/Mini Projects/Interview Question Creator AI RAG\n"
     ]
    },
    {
     "data": {
      "text/plain": [
       "'/Volumes/Ayush Drive/ASU/Mini Projects/Interview Question Creator AI RAG'"
      ]
     },
     "execution_count": 6,
     "metadata": {},
     "output_type": "execute_result"
    }
   ],
   "source": [
    "%cd ..\n",
    "%pwd"
   ]
  },
  {
   "cell_type": "code",
   "execution_count": 32,
   "id": "d3024792",
   "metadata": {},
   "outputs": [],
   "source": [
    "file_path = \"data/AI.pdf\"\n",
    "loader= PyPDFLoader(file_path)\n",
    "data= loader.load()\n"
   ]
  },
  {
   "cell_type": "code",
   "execution_count": 38,
   "id": "eb254e3e",
   "metadata": {},
   "outputs": [],
   "source": [
    "from langchain.docstore.document import Document\n",
    "\n",
    "content_Doc = [Document(page_content=page.page_content) for page in data]\n"
   ]
  },
  {
   "cell_type": "code",
   "execution_count": 39,
   "id": "e7649c63",
   "metadata": {},
   "outputs": [],
   "source": [
    "#Doing Chunk Operation\n",
    "from langchain.text_splitter import TokenTextSplitter"
   ]
  },
  {
   "cell_type": "code",
   "execution_count": 42,
   "id": "e2bdce3f",
   "metadata": {},
   "outputs": [
    {
     "data": {
      "text/plain": [
       "67"
      ]
     },
     "execution_count": 42,
     "metadata": {},
     "output_type": "execute_result"
    }
   ],
   "source": [
    "splitter = TokenTextSplitter(\n",
    "    model_name= \"gpt-3.5\",\n",
    "    chunk_size=1000,\n",
    "    chunk_overlap=100\n",
    ")\n",
    "content_Doc_Splitted = splitter.split_documents(content_Doc)\n",
    "\n",
    "len(content_Doc_Splitted)"
   ]
  },
  {
   "cell_type": "code",
   "execution_count": null,
   "id": "73ee7e35",
   "metadata": {},
   "outputs": [],
   "source": [
    "#Now generating the questions using LLM\n",
    "from langchain.chat_models import ChatOpenAI\n",
    "llm = ChatOpenAI(\n",
    "    model_name=\"gpt-3.5-turbo\",  \n",
    "    temperature=0.3\n",
    ")\n"
   ]
  },
  {
   "cell_type": "code",
   "execution_count": 45,
   "id": "307bd601",
   "metadata": {},
   "outputs": [],
   "source": [
    "prompt_template=\"\"\"\n",
    "You are an interview expert on Artificial Intelligence. Your goal is to prepare the users for their exam and coding tests. You have to do this by asking questions from the text below:\n",
    "{text}\n",
    "Make sure not to miss any important information\n",
    "\"\"\""
   ]
  },
  {
   "cell_type": "code",
   "execution_count": 46,
   "id": "65ba1b0f",
   "metadata": {},
   "outputs": [],
   "source": [
    "from langchain.prompts import PromptTemplate"
   ]
  },
  {
   "cell_type": "code",
   "execution_count": 47,
   "id": "60616109",
   "metadata": {},
   "outputs": [],
   "source": [
    "Prompt_Questions = PromptTemplate(template=prompt_template, input_variables=['text'])\n"
   ]
  },
  {
   "cell_type": "code",
   "execution_count": 49,
   "id": "aa427ae2",
   "metadata": {},
   "outputs": [],
   "source": [
    "from langchain.chains.summarize import load_summarize_chain"
   ]
  },
  {
   "cell_type": "code",
   "execution_count": null,
   "id": "96896e41",
   "metadata": {},
   "outputs": [],
   "source": [
    "ques_chain = load_summarize_chain(llm=llm,\n",
    "                                  chain_type=\"refine\",\n",
    "                                  verbose=True,\n",
    "                                  question_prompt = Prompt_Questions\n",
    "                                  )"
   ]
  }
 ],
 "metadata": {
  "kernelspec": {
   "display_name": "interview",
   "language": "python",
   "name": "python3"
  },
  "language_info": {
   "codemirror_mode": {
    "name": "ipython",
    "version": 3
   },
   "file_extension": ".py",
   "mimetype": "text/x-python",
   "name": "python",
   "nbconvert_exporter": "python",
   "pygments_lexer": "ipython3",
   "version": "3.10.18"
  }
 },
 "nbformat": 4,
 "nbformat_minor": 5
}
